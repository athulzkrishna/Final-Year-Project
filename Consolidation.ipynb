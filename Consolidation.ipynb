{
 "cells": [
  {
   "cell_type": "code",
   "execution_count": 1,
   "metadata": {},
   "outputs": [],
   "source": [
    "import urllib.request\n",
    "import json\n",
    "class FlipkartDetails:\n",
    "    def getProducts(self, word):      \n",
    "        user_agent = 'Mozilla/5.0 (Windows; U; Windows NT 5.1; en-US; rv:1.9.0.7) Gecko/2009021910 Firefox/3.0.7'\n",
    "        url = \"https://flipkart.dvishal485.workers.dev/search/\"\n",
    "        newcon=\"\"\n",
    "        for i in word:\n",
    "            if i==\" \":\n",
    "                newcon+=\"%20\"\n",
    "            else:\n",
    "                newcon+=i\n",
    "        url+=newcon\n",
    "        #url = \"https://flipkart.dvishal485.workers.dev/search/smartwatches\"\n",
    "        headers={'User-Agent':user_agent,} \n",
    "\n",
    "        request=urllib.request.Request(url,None,headers) #The assembled request\n",
    "        response = urllib.request.urlopen(request)\n",
    "        data = response.read() # The data u need\n",
    "        #print(type(data))\n",
    "        x=json.loads(data)\n",
    "        res=[]\n",
    "        cnt=0\n",
    "        try:\n",
    "            for i in range(3):\n",
    "                temp=[]\n",
    "                name=x['result'][i]['name']\n",
    "                link=x['result'][i]['link']\n",
    "                temp.append(name)\n",
    "                temp.append(link)\n",
    "                res.append(temp)\n",
    "                cnt+=1\n",
    "        except:\n",
    "            try:\n",
    "                loop=3-cnt\n",
    "                for i in range(loop):\n",
    "                    temp=[]\n",
    "                    name=x['result'][i]['name']\n",
    "                    link=x['result'][i]['link']\n",
    "                    temp.append(name)\n",
    "                    temp.append(link)\n",
    "                    res.append(temp)\n",
    "                    cnt+=1\n",
    "            except:\n",
    "                try:\n",
    "                    loop2=3-cnt\n",
    "                    for i in range(loop2):\n",
    "                        temp=[]\n",
    "                        name=x['result'][i]['name']\n",
    "                        link=x['result'][i]['link']\n",
    "                        temp.append(name)\n",
    "                        temp.append(link)\n",
    "                        res.append(temp)\n",
    "                        cnt+=1\n",
    "                except:\n",
    "                    pass\n",
    "        return res"
   ]
  },
  {
   "cell_type": "code",
   "execution_count": 34,
   "metadata": {},
   "outputs": [
    {
     "name": "stdout",
     "output_type": "stream",
     "text": [
      "Trend According to Google : Related To Shopping:\n",
      "\n",
      "['baggy clothes for women', 'jiomart online shopping clothes', 'formal attire for women', 'nyra cut suit party wear', 'baggy clothes girl', 'summer wear for women', 'party wear dress for baby girl', 'organza saree party wear', 'sports wear for women', 'short dress for girls', 'baby dress boy', 'boys dress style', 'long dress for women party wear', 'ready to wear saree flipkart']\n",
      "\n",
      "Relevant products from Flipkart:\n",
      "\n",
      "[[['Women Printed Round Neck White T-Shirt', 'https://www.flipkart.com/kotty-printed-women-round-neck-white-t-shirt/p/itm103e9cd9e6a6d'], ['Women Printed Round Neck Black T-Shirt', 'https://www.flipkart.com/kotty-printed-women-round-neck-black-t-shirt/p/itmf6ce36c797d1c'], ['Women Typography Round Neck Black T-Shirt', 'https://www.flipkart.com/kotty-typography-women-round-neck-black-t-shirt/p/itm6f5d29fc83c5f']], [['Casual Regular Sleeves Printed Women Blue Top', 'https://www.flipkart.com/do-dhaage-casual-3-4-sleeve-printed-women-blue-top/p/itm36fe6d83cc788'], ['Women Embroidered Viscose Rayon Anarkali Kurta', 'https://www.flipkart.com/satguru-designer-women-embroidered-anarkali-kurta/p/itmc63c3713adff4'], ['Women Embroidered Viscose Rayon Anarkali Kurta', 'https://www.flipkart.com/satguru-designer-women-embroidered-anarkali-kurta/p/itmc4ca7ab72f14e']]]\n"
     ]
    }
   ],
   "source": [
    "from twython import Twython\n",
    "import json\n",
    "import csv\n",
    "import pandas as pd\n",
    "from pytrends.request import TrendReq\n",
    "from datetime import date, timedelta,datetime\n",
    "\n",
    "def find_trend_products():\n",
    "    Trending_topics = TrendReq(hl='en-US', tz=360)\n",
    "    Trending_topics.build_payload(kw_list=[\"/m/09j2d\"], cat=18, timeframe='now 7-d', geo='IN', gprop='froogle')\n",
    "    related_queries = Trending_topics.related_queries()\n",
    "    x=related_queries\n",
    "    key=[]\n",
    "    n=len(x['/m/09j2d']['rising'])\n",
    "    for i in range(n):\n",
    "        key.append(x['/m/09j2d']['rising']['query'][i])\n",
    "    count_tweets=dict()\n",
    "    return key\n",
    "def find_relevant_flipkart_links(keywords):\n",
    "    obj4=FlipkartDetails()\n",
    "    flipprods=[]\n",
    "    for i in keywords:\n",
    "        temp=obj4.getProducts(i)\n",
    "        flipprods.append(temp)\n",
    "    print(flipprods)\n",
    "    \n",
    "from_google_trends=find_trend_products()\n",
    "print(\"Trend According to Google : Related To Shopping:\")\n",
    "print()\n",
    "print(from_google_trends)\n",
    "print()\n",
    "print(\"Relevant products from Flipkart:\")\n",
    "print()\n",
    "find_relevant_flipkart_links(from_google_trends[:2])\n",
    "    "
   ]
  },
  {
   "cell_type": "code",
   "execution_count": null,
   "metadata": {},
   "outputs": [],
   "source": []
  },
  {
   "cell_type": "code",
   "execution_count": 38,
   "metadata": {},
   "outputs": [
    {
     "name": "stdout",
     "output_type": "stream",
     "text": [
      "Trend According to Google : Related To Shopping:\n",
      "\n",
      "['party wear dresses for womens with price', 'gym clothes for women', 'lehnga dress', 'designer sarees party wear', 'lahnga dress', 'summer wear for women', 'ready to wear saree flipkart', 'organza saree party wear', 'short dress for girls', 'ready to wear saree myntra', 'mc stan clothes', 'formal wear for men', 'naira cut suit party wear', 'party wear shirts for men', 'baggy clothes for girls', 'summer clothes for women', 'nyra cut suit party wear']\n",
      "\n"
     ]
    },
    {
     "name": "stderr",
     "output_type": "stream",
     "text": [
      "<ipython-input-38-b06ea8c401a3>:44: FutureWarning: content is deprecated, use rawContent instead\n",
      "  data=[tweet.date,tweet.likeCount,tweet.retweetCount,tweet.content,tweet.url]\n"
     ]
    },
    {
     "name": "stdout",
     "output_type": "stream",
     "text": [
      "[(45208, 'lehnga dress'), (33650, 'mc stan clothes'), (4184, 'short dress for girls'), (273, 'summer clothes for women'), (153, 'gym clothes for women')]\n",
      "Product Relevance:  lehnga dress\n",
      "[['Embroidered Semi Stitched Lehenga Choli', 'https://www.flipkart.com/ab-fabrics-embroidered-semi-stitched-lehenga-choli/p/itm442e5898ddde7'], ['Embroidered Semi Stitched Lehenga Choli', 'https://www.flipkart.com/ab-fabrics-embroidered-semi-stitched-lehenga-choli/p/itm0468ede193939'], ['Floral Print Semi Stitched Lehenga Choli', 'https://www.flipkart.com/anara-floral-print-semi-stitched-lehenga-choli/p/itm82a12a2988e5c']]\n",
      "\n",
      "Product Relevance:  mc stan clothes\n",
      "[['Fashion Bizz 60 PCs Stainless Steel Pegs Dryer Clip Dry...', 'https://www.flipkart.com/fashion-bizz-60-pcs-stainless-steel-pegs-dryer-clip-drying-hanging-cloth-clips/p/itm847c94873b086'], ['Fashion Bizz 96 PCs Stainless Steel Pegs Dryer Clip Dry...', 'https://www.flipkart.com/fashion-bizz-96-pcs-stainless-steel-pegs-dryer-clip-drying-hanging-cloth-clips/p/itmf68082a676cc2'], ['Right Traders Portable Fabric Shaver, Clothes Fuzz Remo...', 'https://www.flipkart.com/right-traders-portable-fabric-shaver-clothes-fuzz-remover-lint-roller/p/itm51d8358d5372a']]\n",
      "\n",
      "Product Relevance:  short dress for girls\n",
      "[['Girls Mini/Short Party Dress', 'https://www.flipkart.com/netra-creation-girls-mini-short-party-dress/p/itmebbc9f0eb7314'], ['Girls Mini/Short Party Dress', 'https://www.flipkart.com/tiktok-fashion-girls-mini-short-party-dress/p/itmdcd67ba1795d4'], ['Girls Mini/Short Festive/Wedding Dress', 'https://www.flipkart.com/ftc-fashions-girls-mini-short-festive-wedding-dress/p/itma9f10fc5423c7']]\n",
      "\n",
      "Product Relevance:  summer clothes for women\n",
      "[['Women Kurta, Pant And Dupatta Set Viscose Rayon', 'https://www.flipkart.com/fashionclub-women-kurta-pant-dupatta-set/p/itm7afecb2918a7c'], ['Women Kurta and Dupatta Set Viscose Rayon', 'https://www.flipkart.com/aarti-fashion-women-kurta-dupatta-set/p/itm2bb6972cc2283'], ['Women Kurta and Sharara Set Viscose Rayon', 'https://www.flipkart.com/merakii-women-kurta-sharara-set/p/itm64d7f999715f1']]\n",
      "\n",
      "Product Relevance:  gym clothes for women\n",
      "[['Casual Sleeveless Solid Women Black Top', 'https://www.flipkart.com/clevaa-casual-solid-women-black-top/p/itmbdbfe410195bd'], ['Printed Women Multicolor Tights', 'https://www.flipkart.com/never-lose-printed-women-multicolor-tights/p/itm7da48e478019c'], ['Striped Women Black, Pink Tights', 'https://www.flipkart.com/kyk-striped-women-black-pink-tights/p/itm364fd99d8db3d']]\n",
      "\n"
     ]
    }
   ],
   "source": [
    "from twython import Twython\n",
    "import json\n",
    "import csv\n",
    "import pandas as pd\n",
    "from pytrends.request import TrendReq\n",
    "from datetime import date, timedelta,datetime\n",
    "\n",
    "def find_trend_products():\n",
    "    Trending_topics = TrendReq(hl='en-US', tz=360)\n",
    "    Trending_topics.build_payload(kw_list=[\"/m/09j2d\"], cat=18, timeframe='now 7-d', geo='IN', gprop='froogle')\n",
    "    related_queries = Trending_topics.related_queries()\n",
    "    x=related_queries\n",
    "    key=[]\n",
    "    n=len(x['/m/09j2d']['rising'])\n",
    "    for i in range(n):\n",
    "        key.append(x['/m/09j2d']['rising']['query'][i])\n",
    "    count_tweets=dict()\n",
    "    return key\n",
    "from_google_trends=find_trend_products()\n",
    "print(\"Trend According to Google : Related To Shopping:\")\n",
    "print()\n",
    "\n",
    "print(from_google_trends)\n",
    "print()\n",
    "from datetime import date, timedelta\n",
    "import pandas \n",
    "import snscrape.modules.twitter as sntwitter\n",
    "def convert():\n",
    "    from datetime import date, datetime\n",
    "    today = date.today()-timedelta(days=2)\n",
    "    today_with_time = datetime(\n",
    "        year=today.year, \n",
    "        month=today.month,\n",
    "        day=today.day,\n",
    "    )\n",
    "    return today_with_time\n",
    "def find_trend_score(product):\n",
    "    scraper=sntwitter.TwitterSearchScraper(product)\n",
    "    ans=[]\n",
    "    score=0\n",
    "    dateFrom=convert()\n",
    "    #print(dateFrom)\n",
    "    for i,tweet in enumerate(scraper.get_items()):\n",
    "        data=[tweet.date,tweet.likeCount,tweet.retweetCount,tweet.content,tweet.url]\n",
    "        ans.append(data)\n",
    "        if tweet.date.replace(tzinfo=None)<dateFrom:\n",
    "            break\n",
    "        if tweet.likeCount:score+=tweet.likeCount\n",
    "        if tweet.retweetCount: score+=tweet.retweetCount\n",
    "        if tweet.viewCount:score+=tweet.viewCount\n",
    "        if tweet.replyCount:score+=tweet.replyCount\n",
    "    #print(tweet)\n",
    "    return score\n",
    "product_array=[]\n",
    "for i in from_google_trends:\n",
    "    product_array.append((find_trend_score(i),i))\n",
    "product_array.sort(reverse=True)\n",
    "Trending_products=product_array[:5]\n",
    "print(Trending_products)\n",
    "\n",
    "def find_relevant_flipkart_links(keyword):\n",
    "    obj4=FlipkartDetails()\n",
    "    temp=obj4.getProducts(keyword)\n",
    "    return temp\n",
    "\n",
    "for s,product in Trending_products:\n",
    "    print(\"Product Relevance: \",product)\n",
    "    print(find_relevant_flipkart_links(product))\n",
    "    print()\n",
    "\n",
    "\n",
    "\n",
    "\n"
   ]
  },
  {
   "cell_type": "code",
   "execution_count": 26,
   "metadata": {},
   "outputs": [
    {
     "name": "stderr",
     "output_type": "stream",
     "text": [
      "<ipython-input-26-a7a510a5f683>:4: FutureWarning: content is deprecated, use rawContent instead\n",
      "  data=[tweet.date,tweet.likeCount,tweet.retweetCount,tweet.content,tweet.url]\n"
     ]
    },
    {
     "data": {
      "text/plain": [
       "Tweet(url='https://twitter.com/datasciencetip_/status/1623536049233494021', date=datetime.datetime(2023, 2, 9, 4, 15, 32, tzinfo=datetime.timezone.utc), rawContent='Maximize your potential with a data science certification in Python! Learn from industry experts and start your journey to success.\\nEnroll Now for live classes starting on 13th Feb.\\nhttps://t.co/yOsTuRuo8o\\n\\n#DataScience  #100DaysOfCode #DataScienceTips', renderedContent='Maximize your potential with a data science certification in Python! Learn from industry experts and start your journey to success.\\nEnroll Now for live classes starting on 13th Feb.\\nbit.ly/3Dv2gJh\\n\\n#DataScience  #100DaysOfCode #DataScienceTips', id=1623536049233494021, user=User(username='datasciencetip_', id=1470082569500868612, displayname='DataScienceTips', rawDescription='#DataScience #MachineLearning    #AI\\nAce Data Science Interviews 👇', renderedDescription='#DataScience #MachineLearning    #AI\\nAce Data Science Interviews 👇', descriptionLinks=None, verified=False, created=datetime.datetime(2021, 12, 12, 17, 26, 26, tzinfo=datetime.timezone.utc), followersCount=10, friendsCount=8, statusesCount=182, favouritesCount=0, listedCount=0, mediaCount=2, location='', protected=False, link=TextLink(text='datasciencetips.ml/b/ZtJGm', url='https://datasciencetips.ml/b/ZtJGm', tcourl='https://t.co/pK8GDE7dmj', indices=(0, 23)), profileImageUrl='https://pbs.twimg.com/profile_images/1562019650493464576/Mqw-R1qj_normal.jpg', profileBannerUrl='https://pbs.twimg.com/profile_banners/1470082569500868612/1661249351', label=None), replyCount=0, retweetCount=0, likeCount=0, quoteCount=0, conversationId=1623536049233494021, lang='en', source='<a href=\"http://twitter.com/download/android\" rel=\"nofollow\">Twitter for Android</a>', sourceUrl='http://twitter.com/download/android', sourceLabel='Twitter for Android', links=[TextLink(text='bit.ly/3Dv2gJh', url='http://bit.ly/3Dv2gJh', tcourl='https://t.co/yOsTuRuo8o', indices=(182, 205))], media=None, retweetedTweet=None, quotedTweet=None, inReplyToTweetId=None, inReplyToUser=None, mentionedUsers=None, coordinates=None, place=None, hashtags=['DataScience', '100DaysOfCode', 'DataScienceTips'], cashtags=None, card=SummaryCard(title='Data Science With Python Course [#1 Python for Data Science Training]', url='http://bit.ly/3Dv2gJh', description='Data Science with Python certification course will help you learn Python to analyze data and create visualizations. Enroll in this Python for Data Science online training now!', thumbnailUrl='https://pbs.twimg.com/card_img/1622450647613444096/qXtHMjht?format=jpg&name=orig', siteUser=None, creatorUser=User(username='edurekaIN', id=523340980, displayname='Edureka', rawDescription=\"We're a ridiculously committed online education platform providing courses in Big Data & Analytics, Cloud Computing, Programming & other trending technologies.\", renderedDescription=\"We're a ridiculously committed online education platform providing courses in Big Data & Analytics, Cloud Computing, Programming & other trending technologies.\", descriptionLinks=None, verified=False, created=datetime.datetime(2012, 3, 13, 14, 58, 44, tzinfo=datetime.timezone.utc), followersCount=7972, friendsCount=758, statusesCount=12395, favouritesCount=7993, listedCount=248, mediaCount=6003, location='India', protected=False, link=TextLink(text='edureka.co', url='http://www.edureka.co', tcourl='https://t.co/Aw6pmHROig', indices=(0, 23)), profileImageUrl='https://pbs.twimg.com/profile_images/1495718868203220992/169g2JAO_normal.jpg', profileBannerUrl='https://pbs.twimg.com/profile_banners/523340980/1669097677', label=None)), viewCount=None, vibe=None)"
      ]
     },
     "execution_count": 26,
     "metadata": {},
     "output_type": "execute_result"
    }
   ],
   "source": [
    "scraper=sntwitter.TwitterSearchScraper(\"python\")\n",
    "ans=[]\n",
    "for tweet in scraper.get_items():\n",
    "        data=[tweet.date,tweet.likeCount,tweet.retweetCount,tweet.content,tweet.url]\n",
    "        ans.append(data)\n",
    "        break\n",
    "tweet\n",
    "        "
   ]
  },
  {
   "cell_type": "markdown",
   "metadata": {},
   "source": [
    "# Workflow:\n",
    "1. Get Trends from google trends related to fashion \n",
    "2. Get the buzz from Twitter \n",
    "3. Score based recent tweets,likes,views,retweets,replycount \n",
    "4. Sort the trends based on trend score\n",
    "5. Find relevant product from Flipkart"
   ]
  },
  {
   "cell_type": "code",
   "execution_count": null,
   "metadata": {},
   "outputs": [],
   "source": [
    "# Diff of mean\n",
    "# max trend - min trend"
   ]
  }
 ],
 "metadata": {
  "kernelspec": {
   "display_name": "Python 3",
   "language": "python",
   "name": "python3"
  },
  "language_info": {
   "codemirror_mode": {
    "name": "ipython",
    "version": 3
   },
   "file_extension": ".py",
   "mimetype": "text/x-python",
   "name": "python",
   "nbconvert_exporter": "python",
   "pygments_lexer": "ipython3",
   "version": "3.8.5"
  }
 },
 "nbformat": 4,
 "nbformat_minor": 4
}
